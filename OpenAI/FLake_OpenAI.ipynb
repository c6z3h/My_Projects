{
 "cells": [
  {
   "cell_type": "code",
   "execution_count": 1,
   "metadata": {},
   "outputs": [],
   "source": [
    "#pip install gym\n",
    "import gym\n",
    "import numpy as np\n",
    "import random"
   ]
  },
  {
   "cell_type": "code",
   "execution_count": 21,
   "metadata": {
    "scrolled": true
   },
   "outputs": [
    {
     "name": "stdout",
     "output_type": "stream",
     "text": [
      "We made it on episode 25 in 17 steps!\n",
      "We made it on episode 33 in 8 steps!\n",
      "Succeeded 2 times out of 100 episodes.\n"
     ]
    }
   ],
   "source": [
    "# Hyperparameters\n",
    "alpha = 0.1  # stepsize\n",
    "gamma = 0.6  # discount\n",
    "epsilon = 0.5  # exploration probability\n",
    "EPISODES = 100\n",
    "\n",
    "q_table = np.zeros([env.action_space.n, env.observation_space.n])\n",
    "\n",
    "counter = 0\n",
    "steps_taken = []\n",
    "\n",
    "# Write a function for argmax to break ties randomly\n",
    "def argmax(q_values):\n",
    "    top_value = float(\"-inf\")\n",
    "    ties = []\n",
    "\n",
    "    for i in range(len(q_values)):\n",
    "        if q_values[i] > top_value:\n",
    "            top_value = q_values[i]\n",
    "            ties.clear()\n",
    "        if q_values[i] == top_value:\n",
    "            ties.append(i)\n",
    "    return np.random.choice(ties)\n",
    "\n",
    "\n",
    "for episode in range(EPISODES):\n",
    "    state = env.reset()  # initial state\n",
    "    done = False\n",
    "    steps = 0\n",
    "    while not done:\n",
    "        steps += 1 # counter\n",
    "        if np.random.random() > epsilon:\n",
    "            action = argmax(q_table[:, state])\n",
    "        else:\n",
    "            action = np.random.randint(0, env.action_space.n)\n",
    "        next_state, reward, done, _ = env.step(action)\n",
    "        # print(next_state, reward, done)\n",
    "\n",
    "        if not done:\n",
    "            max_future_q = np.max(q_table[:, next_state])\n",
    "            current_q = q_table[action, state]\n",
    "            # Q-table update\n",
    "            current_q += alpha * (reward + gamma * max_future_q - current_q)\n",
    "            q_table[action, state] = current_q\n",
    "        elif reward == 1:\n",
    "            print(\"We made it on episode\", episode, \"in\", steps, \"steps!\")\n",
    "            counter += 1\n",
    "            steps_taken.append(steps)\n",
    "            #env.render()\n",
    "            current_q += alpha * (reward - current_q)\n",
    "\n",
    "        # prev_action = action\n",
    "        state = next_state\n",
    "\n",
    "print(\"Succeeded\", counter, \"times out of\", EPISODES, \"episodes.\")\n",
    "\n",
    "env.close()"
   ]
  },
  {
   "cell_type": "code",
   "execution_count": 22,
   "metadata": {},
   "outputs": [
    {
     "data": {
      "text/plain": [
       "12.5"
      ]
     },
     "execution_count": 22,
     "metadata": {},
     "output_type": "execute_result"
    }
   ],
   "source": [
    "q_table\n",
    "np.average(steps_taken)\n"
   ]
  },
  {
   "cell_type": "code",
   "execution_count": null,
   "metadata": {},
   "outputs": [],
   "source": []
  }
 ],
 "metadata": {
  "kernelspec": {
   "display_name": "Python 3",
   "language": "python",
   "name": "python3"
  },
  "language_info": {
   "codemirror_mode": {
    "name": "ipython",
    "version": 3
   },
   "file_extension": ".py",
   "mimetype": "text/x-python",
   "name": "python",
   "nbconvert_exporter": "python",
   "pygments_lexer": "ipython3",
   "version": "3.8.5"
  }
 },
 "nbformat": 4,
 "nbformat_minor": 4
}
