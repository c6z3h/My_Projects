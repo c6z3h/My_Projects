{
 "cells": [
  {
   "cell_type": "markdown",
   "metadata": {},
   "source": [
    "This project is to take a expense tracker in HTML[(not this one)](https://www.todayonline.com/world/philippines-web-designer-names-newborn-son-html-pay-tribute-to-profession) log from Telegram to save into an Excel sheet, removing typo errors, and saving time!\n",
    "\n",
    "#### LUMO$ | Transferring logged expenses from Telegram saved messages to Excel using BeautifulSoup and Python."
   ]
  },
  {
   "cell_type": "code",
   "execution_count": 1,
   "metadata": {},
   "outputs": [],
   "source": [
    "from glob import glob"
   ]
  },
  {
   "cell_type": "code",
   "execution_count": 2,
   "metadata": {},
   "outputs": [
    {
     "data": {
      "text/plain": [
       "['\\\\Users\\\\czhihong\\\\Downloads\\\\ChatExport_2021-09-04\\\\messages.html']"
      ]
     },
     "execution_count": 2,
     "metadata": {},
     "output_type": "execute_result"
    }
   ],
   "source": [
    "exported_message = glob(r\"\\Users\\czhihong\\Downloads\\ChatExport_2021-09-04\\*.html\") #C:\\Users\\czhihong\\Downloads\\ChatExport_2021-09-03\n",
    "exported_message"
   ]
  },
  {
   "cell_type": "code",
   "execution_count": 3,
   "metadata": {},
   "outputs": [
    {
     "data": {
      "text/plain": [
       "1"
      ]
     },
     "execution_count": 3,
     "metadata": {},
     "output_type": "execute_result"
    }
   ],
   "source": [
    "len(exported_message)"
   ]
  },
  {
   "cell_type": "code",
   "execution_count": 4,
   "metadata": {},
   "outputs": [
    {
     "name": "stdout",
     "output_type": "stream",
     "text": [
      "<!DOCTYPE html>\n",
      "<html>\n",
      "\n",
      " <head>\n",
      "\n",
      "  <meta charset=\"utf-8\"/>\n",
      "<title>Exported Data</title>\n",
      "  <meta content=\"width=device-width, initial-scale=1.0\" name=\"viewport\"/>\n",
      "\n",
      "  <link href=\"css/style.css\" rel=\"stylesheet\"/>\n",
      "\n",
      "  <script src=\"js/script.js\" type=\"text/javascript\">\n",
      "\n",
      "  </script>\n",
      "\n",
      " </head>\n",
      "\n",
      " <body onload=\"CheckLocation();\">\n",
      "\n",
      "  <div class=\"page_wrap\">\n",
      "\n",
      "   <div class=\"page_header\">\n",
      "\n",
      "    <div class=\"content\">\n",
      "\n",
      "     <div class=\"text bold\">\n",
      "Zhi Hong \n",
      "     </div>\n",
      "\n",
      "    </div>\n",
      "\n",
      "   </div>\n",
      "\n",
      "   <div class=\"page_body chat_page\">\n",
      "\n",
      "    <div class=\"history\">\n",
      "\n",
      "     <div class=\"message service\" id=\"message-1\">\n",
      "\n",
      "      <div class=\"body details\">\n",
      "9 April 2021\n",
      "      </div>\n",
      "\n",
      "     </div>\n",
      "\n",
      "     <div class=\"message default clearfix\" id=\"message95366\">\n",
      "\n",
      "      <div class=\"pull_left userpic_wrap\">\n",
      "\n",
      "       <div class=\"userpic userpic1\" style=\"width: 42px; height: 42px\">\n",
      "\n",
      "        <div class=\"initials\" style=\"line-height: 42px\">\n",
      "Z\n",
      "        </div>\n",
      "\n",
      "       </div>\n",
      "\n",
      "      </div>\n",
      "\n",
      "      <div class=\"body\">\n",
      "\n",
      "       <div class=\"pull_right date details\" title=\"09.04.2021 06:14:19\">\n",
      "06:14\n",
      "       </div>\n",
      "\n",
      "       <div class=\"from_name\">\n",
      "Zhi Hong \n",
      "       </div>\n",
      "\n",
      "       <div class=\"text\">\n",
      "R/askr Things people chase that are a waste of time?<br>I find life finite and some things i do without giving much thought -- more perspectives would prob help me cut out the bad stuff faster, thanks :)\n",
      "       </div>\n",
      "\n",
      "      </div>\n",
      "\n",
      "     </div>\n",
      "\n",
      "     <div class=\"message default clearfix\" id=\"message95418\">\n",
      "\n",
      "      <div class=\"pull_left userpic_wrap\">\n",
      "\n",
      "       <div class=\"userpic userpic1\" style=\"width: 42px; height: 42px\">\n",
      "\n",
      "        <div class=\"initials\" style=\"line-height: 42px\">\n",
      "Z\n",
      "        </div>\n",
      "\n",
      "       </div>\n",
      "\n",
      "      </div>\n",
      "\n",
      "      <div class=\"body\">\n",
      "\n",
      "       <div class=\"pull_right date details\" title=\"09.04.2021 16:23:01\">\n",
      "16:23\n",
      "       </div>\n",
      "\n",
      "       <div class=\"from_name\">\n",
      "Zhi Hong \n",
      "       </div>\n",
      "\n",
      "       <div class=\"text\">\n",
      "<strong>Expense log: (target: 75/week)<br></strong>&gt; Will target make me spend more? FEB is No (but I was not working yet). JUL is Yes -- reduce target.<br>&gt; 300 in APR, ~500 in July (physio, fastfood)<br><br>$20 topup ezlink 7/8<br>$1 turtle feeding<br>$10.60 hokkaidoya Chiraishi<br>----<br>$61.50 teeth filling 11/8<br>$4 chweekueh<br>$8.9 sunBreakfast 15/8<br>----<br>$4.5 chicken rice 18/8<br>$3 water 21/8<br>$11.50 pizzahut<br>$2 7-eleven orange<br>----\n",
      "       </div>\n",
      "\n",
      "      </div>\n",
      "\n",
      "     </div>\n",
      "\n",
      "    </div>\n",
      "\n",
      "   </div>\n",
      "\n",
      "  </div>\n",
      "\n",
      " </body>\n",
      "\n",
      "</html>\n",
      "\n"
     ]
    }
   ],
   "source": [
    "with open(r\"\\Users\\czhihong\\Downloads\\ChatExport_2021-09-04\\messages.html\", \"r\") as f:\n",
    "    print(''.join(f.readlines()))"
   ]
  },
  {
   "cell_type": "code",
   "execution_count": 5,
   "metadata": {},
   "outputs": [],
   "source": [
    "from bs4 import BeautifulSoup"
   ]
  },
  {
   "cell_type": "code",
   "execution_count": 7,
   "metadata": {},
   "outputs": [],
   "source": [
    "soup = BeautifulSoup(open(r\"C:\\Users\\czhihong\\Downloads\\ChatExport_2021-09-04\\messages.html\", \"r\"))"
   ]
  },
  {
   "cell_type": "code",
   "execution_count": 8,
   "metadata": {},
   "outputs": [
    {
     "data": {
      "text/plain": [
       "['\\n',\n",
       " <strong>Expense log: (target: 75/week)<br/></strong>,\n",
       " '> Will target make me spend more? FEB is No (but I was not working yet). JUL is Yes -- reduce target.',\n",
       " <br/>,\n",
       " '> 300 in APR, ~500 in July (physio, fastfood)',\n",
       " <br/>,\n",
       " <br/>,\n",
       " '$20 topup ezlink 7/8',\n",
       " <br/>,\n",
       " '$1 turtle feeding',\n",
       " <br/>,\n",
       " '$10.60 hokkaidoya Chiraishi',\n",
       " <br/>,\n",
       " '----',\n",
       " <br/>,\n",
       " '$61.50 teeth filling 11/8',\n",
       " <br/>,\n",
       " '$4 chweekueh',\n",
       " <br/>,\n",
       " '$8.9 sunBreakfast 15/8',\n",
       " <br/>,\n",
       " '----',\n",
       " <br/>,\n",
       " '$4.5 chicken rice 18/8',\n",
       " <br/>,\n",
       " '$3 water 21/8',\n",
       " <br/>,\n",
       " '$11.50 pizzahut',\n",
       " <br/>,\n",
       " '$2 7-eleven orange',\n",
       " <br/>,\n",
       " '----\\n       ']"
      ]
     },
     "execution_count": 8,
     "metadata": {},
     "output_type": "execute_result"
    }
   ],
   "source": [
    "soup.select(\".text\")[-1].contents # list type"
   ]
  },
  {
   "cell_type": "code",
   "execution_count": 9,
   "metadata": {},
   "outputs": [
    {
     "data": {
      "text/plain": [
       "['$20 topup ezlink 7/8',\n",
       " '$1 turtle feeding',\n",
       " '$10.60 hokkaidoya Chiraishi',\n",
       " '$61.50 teeth filling 11/8',\n",
       " '$4 chweekueh',\n",
       " '$8.9 sunBreakfast 15/8',\n",
       " '$4.5 chicken rice 18/8',\n",
       " '$3 water 21/8',\n",
       " '$11.50 pizzahut',\n",
       " '$2 7-eleven orange']"
      ]
     },
     "execution_count": 9,
     "metadata": {},
     "output_type": "execute_result"
    }
   ],
   "source": [
    "# Now, keep only the elements that start with \"$\" # Subsequently with \"-\".\n",
    "#list_values = [values for values in soup.select(\".text\")[-1].contents if (\"$\" in values or \"-\" in values)]\n",
    "list_values = [values for values in soup.select(\".text\")[-1].contents if \"$\" in values]\n",
    "list_values"
   ]
  },
  {
   "cell_type": "code",
   "execution_count": 10,
   "metadata": {},
   "outputs": [
    {
     "data": {
      "text/plain": [
       "['$20', 'topup', 'ezlink', '7/8']"
      ]
     },
     "execution_count": 10,
     "metadata": {},
     "output_type": "execute_result"
    }
   ],
   "source": [
    "n = len(list_values)\n",
    "cols = 3 # Price, Item, Date\n",
    "matrix_values = [ [ 0 for i in range(cols) ] for j in range(n) ]\n",
    "\n",
    "list_values[0].split(\" \")\n",
    "# split this into a 3-column matrix\n",
    "# for i in range(n):\n",
    "#     price, item, date = list_values[i].split(\" \")\n",
    "#     print(price, item, date)\n",
    "    "
   ]
  },
  {
   "cell_type": "markdown",
   "metadata": {},
   "source": [
    "##### Next:\n",
    "1. split the stuff into 3-column matrix\n",
    "2. recognize the month of interest\n",
    "3. write to CSV"
   ]
  }
 ],
 "metadata": {
  "kernelspec": {
   "display_name": "Python 3",
   "language": "python",
   "name": "python3"
  },
  "language_info": {
   "codemirror_mode": {
    "name": "ipython",
    "version": 3
   },
   "file_extension": ".py",
   "mimetype": "text/x-python",
   "name": "python",
   "nbconvert_exporter": "python",
   "pygments_lexer": "ipython3",
   "version": "3.8.5"
  }
 },
 "nbformat": 4,
 "nbformat_minor": 4
}
