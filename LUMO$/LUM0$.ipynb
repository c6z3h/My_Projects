{
 "cells": [
  {
   "cell_type": "markdown",
   "metadata": {},
   "source": [
    "This project is to take a expense tracker in HTML[(not this one)](https://www.todayonline.com/world/philippines-web-designer-names-newborn-son-html-pay-tribute-to-profession) log from Telegram to save into an Excel sheet, removing typo errors, and saving time!\n",
    "\n",
    "#### LUMO$ | Transferring logged expenses from Telegram saved messages to Excel using BeautifulSoup and Python."
   ]
  },
  {
   "cell_type": "code",
   "execution_count": 1,
   "metadata": {},
   "outputs": [],
   "source": [
    "from glob import glob\n",
    "from bs4 import BeautifulSoup"
   ]
  },
  {
   "cell_type": "code",
   "execution_count": 2,
   "metadata": {},
   "outputs": [],
   "source": [
    "## Quick Exploration of the HTML data\n",
    "# exported_message = glob(r\"C:\\Users\\Anyone\\Downloads\\ChatExport_2021-09-04\\*.html\")\n",
    "# exported_message\n",
    "# with open(r\"C:\\Users\\Anyone\\Downloads\\ChatExport_2021-09-04\\messages.html\", \"r\") as f:\n",
    "#     print(''.join(f.readlines()))"
   ]
  },
  {
   "cell_type": "code",
   "execution_count": 3,
   "metadata": {},
   "outputs": [],
   "source": [
    "soup = BeautifulSoup(open(r\"C:\\Users\\Anyone\\Downloads\\ChatExport_2021-09-04\\messages.html\", \"r\"))"
   ]
  },
  {
   "cell_type": "code",
   "execution_count": 4,
   "metadata": {},
   "outputs": [
    {
     "data": {
      "text/plain": [
       "['$20 topup ezlink 7/8',\n",
       " '$1 turtle feeding',\n",
       " '$10.60 hokkaidoya Chiraishi',\n",
       " '$61.50 teeth filling 11/8',\n",
       " '$4 chweekueh',\n",
       " '$8.9 sunBreakfast 15/8',\n",
       " '$4.5 chicken rice 18/8',\n",
       " '$3 water 21/8',\n",
       " '$11.50 pizzahut',\n",
       " '$2 7-eleven orange']"
      ]
     },
     "execution_count": 4,
     "metadata": {},
     "output_type": "execute_result"
    }
   ],
   "source": [
    "# Now, keep only the elements that start with \"$\" # Subsequently with \"-\".\n",
    "#list_values = [values for values in soup.select(\".text\")[-1].contents if (\"$\" in values or \"-\" in values)]\n",
    "list_values = [values for values in soup.select(\".text\")[-1].contents if \"$\" in values]\n",
    "list_values"
   ]
  },
  {
   "cell_type": "code",
   "execution_count": 5,
   "metadata": {},
   "outputs": [],
   "source": [
    "n = len(list_values)\n",
    "cols = 3 # Price, Item, Date\n",
    "matrix_values = [ [ 0 for i in range(cols) ] for j in range(n) ]    "
   ]
  },
  {
   "cell_type": "code",
   "execution_count": 6,
   "metadata": {
    "scrolled": true
   },
   "outputs": [],
   "source": [
    "for i in range(n):\n",
    "    if \"/\" in list_values[i]:\n",
    "        date = list_values[i][-4:]\n",
    "    else:\n",
    "        date = \"\"\n",
    "    price, item = list_values[i].split(\" \", 1)\n",
    "#     print(\"Price: \", price,\" Item: \", item,\" Date: \", date)\n",
    "    matrix_values[i][0:3] = [price, item, date]"
   ]
  },
  {
   "cell_type": "code",
   "execution_count": 7,
   "metadata": {},
   "outputs": [
    {
     "data": {
      "text/plain": [
       "[['topup ezlink', '$20', ' 7/8'],\n",
       " ['turtle feeding', '$1', ''],\n",
       " ['hokkaidoya Chiraishi', '$10.60', ''],\n",
       " ['teeth filling ', '$61.50', '11/8'],\n",
       " ['chweekueh', '$4', ''],\n",
       " ['sunBreakfast ', '$8.9', '15/8'],\n",
       " ['chicken rice ', '$4.5', '18/8'],\n",
       " ['water ', '$3', '21/8'],\n",
       " ['pizzahut', '$11.50', ''],\n",
       " ['7-eleven orange', '$2', '']]"
      ]
     },
     "execution_count": 7,
     "metadata": {},
     "output_type": "execute_result"
    }
   ],
   "source": [
    "temp = \"\"\n",
    "for i in range(n):\n",
    "    if \"/\" in matrix_values[i][1]:\n",
    "        matrix_values[i][1] = matrix_values[i][1].replace(str(matrix_values[i][1][-4:]), \"\")\n",
    "    temp = matrix_values[i][1]\n",
    "    matrix_values[i][1] = matrix_values[i][0]\n",
    "    matrix_values[i][0] = temp\n",
    "matrix_values"
   ]
  },
  {
   "cell_type": "code",
   "execution_count": 8,
   "metadata": {},
   "outputs": [
    {
     "data": {
      "text/plain": [
       "'August'"
      ]
     },
     "execution_count": 8,
     "metadata": {},
     "output_type": "execute_result"
    }
   ],
   "source": [
    "month_dict = {1:\"January\",2:\"February\",3:\"March\",4:\"April\",5:\"May\",6:\"June\",7:\"July\",8:\"August\",9:\"September\",10:\"October\",11:\"November\",12:\"December\"}\n",
    "month = month_dict[int(matrix_values[0][2].split(\"/\")[1])]\n",
    "month"
   ]
  },
  {
   "cell_type": "code",
   "execution_count": 9,
   "metadata": {},
   "outputs": [],
   "source": [
    "# Write to CSV\n",
    "# column_dict = {\"July\":0, \"August\":4, \"September\":7, \"October\":10,\"November\":13, \"December\":16}\n",
    "# column = column_dict[month]\n",
    "# row = 2\n",
    "# sheet = 2\n",
    "\n",
    "import xlsxwriter\n",
    " \n",
    "workbook = xlsxwriter.Workbook('temp.xlsx')\n",
    "worksheet = workbook.add_worksheet()\n",
    "\n",
    "# iterating through content list\n",
    "for row in range(n):\n",
    "    for col in range(3):\n",
    "        worksheet.write(row, col, matrix_values[row][col])\n",
    "workbook.close()\n",
    "\n",
    "# Copy-Paste over, reduces typo errors!"
   ]
  },
  {
   "cell_type": "markdown",
   "metadata": {},
   "source": [
    "# Future Work:\n",
    "Make it more elegant lol"
   ]
  }
 ],
 "metadata": {
  "kernelspec": {
   "display_name": "Python 3",
   "language": "python",
   "name": "python3"
  },
  "language_info": {
   "codemirror_mode": {
    "name": "ipython",
    "version": 3
   },
   "file_extension": ".py",
   "mimetype": "text/x-python",
   "name": "python",
   "nbconvert_exporter": "python",
   "pygments_lexer": "ipython3",
   "version": "3.8.5"
  }
 },
 "nbformat": 4,
 "nbformat_minor": 4
}
